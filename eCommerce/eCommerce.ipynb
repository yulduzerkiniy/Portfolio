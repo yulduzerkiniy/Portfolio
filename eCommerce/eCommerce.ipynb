{
 "cells": [
  {
   "cell_type": "markdown",
   "id": "a5d81994",
   "metadata": {},
   "source": [
    "# eCommerce store events data analysis"
   ]
  },
  {
   "cell_type": "markdown",
   "id": "18e49cbf",
   "metadata": {},
   "source": [
    "### 1. Customers clusterization"
   ]
  },
  {
   "cell_type": "markdown",
   "id": "0892006f",
   "metadata": {},
   "source": [
    "### About"
   ]
  },
  {
   "cell_type": "markdown",
   "id": "28af775b",
   "metadata": {},
   "source": [
    "This file contains behavior data for Nov 2019 from a large electronics commerce online store.\n",
    "\n",
    "Each row in the file represents an event. All events are related to products and users. Each event is like many-to-many relation between products and users.\n",
    "\n",
    "Data collected by Open CDP project."
   ]
  },
  {
   "cell_type": "markdown",
   "id": "b5639c8d",
   "metadata": {},
   "source": [
    "https://www.kaggle.com/datasets/mkechinov/ecommerce-behavior-data-from-multi-category-store?select=2019-Nov.csv"
   ]
  },
  {
   "cell_type": "code",
   "execution_count": 2,
   "id": "4753168b",
   "metadata": {},
   "outputs": [],
   "source": [
    "import numpy as np\n",
    "import pandas as pd\n",
    "import random\n",
    "import datetime as dt\n",
    "\n",
    "from pandasql import sqldf\n",
    "import squarify\n",
    "\n",
    "import matplotlib\n",
    "import matplotlib.pyplot as plt\n",
    "\n",
    "import seaborn as sb\n",
    "%matplotlib inline\n",
    "import math\n",
    "\n",
    "import warnings\n",
    "warnings.filterwarnings('ignore')"
   ]
  },
  {
   "cell_type": "code",
   "execution_count": 58,
   "id": "3150827a",
   "metadata": {},
   "outputs": [
    {
     "data": {
      "text/plain": [
       "{'tags': [\"df_file = './2019-Nov.csv'\"]}"
      ]
     },
     "execution_count": 58,
     "metadata": {},
     "output_type": "execute_result"
    }
   ],
   "source": [
    "df_file = './2019-Nov.csv'"
   ]
  },
  {
   "cell_type": "code",
   "execution_count": 3,
   "id": "60b27103",
   "metadata": {},
   "outputs": [],
   "source": [
    "df = pd.read_csv(df_file, sep=',')"
   ]
  },
  {
   "cell_type": "code",
   "execution_count": 4,
   "id": "8a1ec141",
   "metadata": {},
   "outputs": [
    {
     "data": {
      "text/plain": [
       "(67501979, 9)"
      ]
     },
     "execution_count": 4,
     "metadata": {},
     "output_type": "execute_result"
    }
   ],
   "source": [
    "df.shape"
   ]
  },
  {
   "cell_type": "code",
   "execution_count": 5,
   "id": "c0a1e1df",
   "metadata": {},
   "outputs": [
    {
     "name": "stdout",
     "output_type": "stream",
     "text": [
      "<class 'pandas.core.frame.DataFrame'>\n",
      "RangeIndex: 67501979 entries, 0 to 67501978\n",
      "Data columns (total 9 columns):\n",
      " #   Column         Dtype  \n",
      "---  ------         -----  \n",
      " 0   event_time     object \n",
      " 1   event_type     object \n",
      " 2   product_id     int64  \n",
      " 3   category_id    int64  \n",
      " 4   category_code  object \n",
      " 5   brand          object \n",
      " 6   price          float64\n",
      " 7   user_id        int64  \n",
      " 8   user_session   object \n",
      "dtypes: float64(1), int64(3), object(5)\n",
      "memory usage: 24.4 GB\n"
     ]
    }
   ],
   "source": [
    "df.info(memory_usage='deep')"
   ]
  },
  {
   "cell_type": "code",
   "execution_count": 4,
   "id": "aee27520",
   "metadata": {},
   "outputs": [],
   "source": [
    "def reduce_mem_usage(df):\n",
    "    \"\"\" iterate through all the columns of a dataframe and modify the data type\n",
    "        to reduce memory usage.        \n",
    "    \"\"\"\n",
    "    start_mem = df.memory_usage().sum() / 1024**2\n",
    "    print('Memory usage of dataframe is {:.2f} MB'.format(start_mem))\n",
    "    \n",
    "    for col in df.columns:\n",
    "        col_type = df[col].dtype\n",
    "        \n",
    "        if col_type != object:\n",
    "            c_min = df[col].min()\n",
    "            c_max = df[col].max()\n",
    "            if str(col_type)[:3] == 'int':\n",
    "                if c_min > np.iinfo(np.int8).min and c_max < np.iinfo(np.int8).max:\n",
    "                    df[col] = df[col].astype(np.int8)\n",
    "                elif c_min > np.iinfo(np.int16).min and c_max < np.iinfo(np.int16).max:\n",
    "                    df[col] = df[col].astype(np.int16)\n",
    "                elif c_min > np.iinfo(np.int32).min and c_max < np.iinfo(np.int32).max:\n",
    "                    df[col] = df[col].astype(np.int32)\n",
    "                elif c_min > np.iinfo(np.int64).min and c_max < np.iinfo(np.int64).max:\n",
    "                    df[col] = df[col].astype(np.int64)  \n",
    "            else:\n",
    "                if c_min > np.finfo(np.float32).min and c_max < np.finfo(np.float32).max:\n",
    "                    df[col] = df[col].astype(np.float32)\n",
    "                else:\n",
    "                    df[col] = df[col].astype(np.float64)\n",
    "        else:\n",
    "            df[col] = df[col].astype('category')\n",
    "\n",
    "    end_mem = df.memory_usage().sum() / 1024**2\n",
    "    print('Memory usage after optimization is: {:.2f} MB'.format(end_mem))\n",
    "    print('Decreased by {:.1f}%'.format(100 * (start_mem - end_mem) / start_mem))\n",
    "    \n",
    "    return df"
   ]
  },
  {
   "cell_type": "code",
   "execution_count": 5,
   "id": "c2dad233",
   "metadata": {},
   "outputs": [
    {
     "name": "stdout",
     "output_type": "stream",
     "text": [
      "Memory usage of dataframe is 4634.99 MB\n",
      "Memory usage after optimization is: 2829.59 MB\n",
      "Decreased by 39.0%\n"
     ]
    }
   ],
   "source": [
    "df = reduce_mem_usage(df)"
   ]
  },
  {
   "cell_type": "code",
   "execution_count": 9,
   "id": "4d490e61",
   "metadata": {},
   "outputs": [
    {
     "data": {
      "text/plain": [
       "event_time       category\n",
       "event_type       category\n",
       "product_id          int32\n",
       "category_id         int64\n",
       "category_code    category\n",
       "brand            category\n",
       "price             float32\n",
       "user_id             int32\n",
       "user_session     category\n",
       "dtype: object"
      ]
     },
     "execution_count": 9,
     "metadata": {},
     "output_type": "execute_result"
    }
   ],
   "source": [
    "df.dtypes"
   ]
  },
  {
   "cell_type": "code",
   "execution_count": 10,
   "id": "36b0671e",
   "metadata": {
    "scrolled": true
   },
   "outputs": [
    {
     "data": {
      "text/html": [
       "<div>\n",
       "<style scoped>\n",
       "    .dataframe tbody tr th:only-of-type {\n",
       "        vertical-align: middle;\n",
       "    }\n",
       "\n",
       "    .dataframe tbody tr th {\n",
       "        vertical-align: top;\n",
       "    }\n",
       "\n",
       "    .dataframe thead th {\n",
       "        text-align: right;\n",
       "    }\n",
       "</style>\n",
       "<table border=\"1\" class=\"dataframe\">\n",
       "  <thead>\n",
       "    <tr style=\"text-align: right;\">\n",
       "      <th></th>\n",
       "      <th>event_time</th>\n",
       "      <th>event_type</th>\n",
       "      <th>product_id</th>\n",
       "      <th>category_id</th>\n",
       "      <th>category_code</th>\n",
       "      <th>brand</th>\n",
       "      <th>price</th>\n",
       "      <th>user_id</th>\n",
       "      <th>user_session</th>\n",
       "    </tr>\n",
       "  </thead>\n",
       "  <tbody>\n",
       "    <tr>\n",
       "      <th>0</th>\n",
       "      <td>2019-11-01 00:00:00 UTC</td>\n",
       "      <td>view</td>\n",
       "      <td>1003461</td>\n",
       "      <td>2053013555631882655</td>\n",
       "      <td>electronics.smartphone</td>\n",
       "      <td>xiaomi</td>\n",
       "      <td>489.070007</td>\n",
       "      <td>520088904</td>\n",
       "      <td>4d3b30da-a5e4-49df-b1a8-ba5943f1dd33</td>\n",
       "    </tr>\n",
       "    <tr>\n",
       "      <th>1</th>\n",
       "      <td>2019-11-01 00:00:00 UTC</td>\n",
       "      <td>view</td>\n",
       "      <td>5000088</td>\n",
       "      <td>2053013566100866035</td>\n",
       "      <td>appliances.sewing_machine</td>\n",
       "      <td>janome</td>\n",
       "      <td>293.649994</td>\n",
       "      <td>530496790</td>\n",
       "      <td>8e5f4f83-366c-4f70-860e-ca7417414283</td>\n",
       "    </tr>\n",
       "    <tr>\n",
       "      <th>2</th>\n",
       "      <td>2019-11-01 00:00:01 UTC</td>\n",
       "      <td>view</td>\n",
       "      <td>17302664</td>\n",
       "      <td>2053013553853497655</td>\n",
       "      <td>NaN</td>\n",
       "      <td>creed</td>\n",
       "      <td>28.309999</td>\n",
       "      <td>561587266</td>\n",
       "      <td>755422e7-9040-477b-9bd2-6a6e8fd97387</td>\n",
       "    </tr>\n",
       "    <tr>\n",
       "      <th>3</th>\n",
       "      <td>2019-11-01 00:00:01 UTC</td>\n",
       "      <td>view</td>\n",
       "      <td>3601530</td>\n",
       "      <td>2053013563810775923</td>\n",
       "      <td>appliances.kitchen.washer</td>\n",
       "      <td>lg</td>\n",
       "      <td>712.869995</td>\n",
       "      <td>518085591</td>\n",
       "      <td>3bfb58cd-7892-48cc-8020-2f17e6de6e7f</td>\n",
       "    </tr>\n",
       "  </tbody>\n",
       "</table>\n",
       "</div>"
      ],
      "text/plain": [
       "                event_time event_type  product_id          category_id  \\\n",
       "0  2019-11-01 00:00:00 UTC       view     1003461  2053013555631882655   \n",
       "1  2019-11-01 00:00:00 UTC       view     5000088  2053013566100866035   \n",
       "2  2019-11-01 00:00:01 UTC       view    17302664  2053013553853497655   \n",
       "3  2019-11-01 00:00:01 UTC       view     3601530  2053013563810775923   \n",
       "\n",
       "               category_code   brand       price    user_id  \\\n",
       "0     electronics.smartphone  xiaomi  489.070007  520088904   \n",
       "1  appliances.sewing_machine  janome  293.649994  530496790   \n",
       "2                        NaN   creed   28.309999  561587266   \n",
       "3  appliances.kitchen.washer      lg  712.869995  518085591   \n",
       "\n",
       "                           user_session  \n",
       "0  4d3b30da-a5e4-49df-b1a8-ba5943f1dd33  \n",
       "1  8e5f4f83-366c-4f70-860e-ca7417414283  \n",
       "2  755422e7-9040-477b-9bd2-6a6e8fd97387  \n",
       "3  3bfb58cd-7892-48cc-8020-2f17e6de6e7f  "
      ]
     },
     "execution_count": 10,
     "metadata": {},
     "output_type": "execute_result"
    }
   ],
   "source": [
    "df.head(4)"
   ]
  },
  {
   "cell_type": "code",
   "execution_count": 67,
   "id": "67296f5f",
   "metadata": {
    "scrolled": true
   },
   "outputs": [
    {
     "data": {
      "text/plain": [
       "event_time              0\n",
       "event_type              0\n",
       "product_id              0\n",
       "category_id             0\n",
       "category_code    21898171\n",
       "brand             9224078\n",
       "price                   0\n",
       "user_id                 0\n",
       "user_session           10\n",
       "dtype: int64"
      ]
     },
     "execution_count": 67,
     "metadata": {},
     "output_type": "execute_result"
    }
   ],
   "source": [
    "df.isna().sum()"
   ]
  },
  {
   "cell_type": "markdown",
   "id": "fac54141",
   "metadata": {},
   "source": [
    "let's start with even type"
   ]
  },
  {
   "cell_type": "code",
   "execution_count": 57,
   "id": "6c15ddf7",
   "metadata": {},
   "outputs": [
    {
     "data": {
      "text/plain": [
       "['view', 'cart', 'purchase']\n",
       "Categories (3, object): ['cart', 'purchase', 'view']"
      ]
     },
     "execution_count": 57,
     "metadata": {},
     "output_type": "execute_result"
    }
   ],
   "source": [
    "df['event_type'].unique()"
   ]
  },
  {
   "cell_type": "code",
   "execution_count": 59,
   "id": "61deb909",
   "metadata": {},
   "outputs": [
    {
     "data": {
      "text/plain": [
       "view        63556110\n",
       "cart         3028930\n",
       "purchase      916939\n",
       "Name: event_type, dtype: int64"
      ]
     },
     "execution_count": 59,
     "metadata": {},
     "output_type": "execute_result"
    }
   ],
   "source": [
    "df['event_type'].value_counts()"
   ]
  },
  {
   "cell_type": "code",
   "execution_count": 66,
   "id": "2e6ed34a",
   "metadata": {},
   "outputs": [
    {
     "data": {
      "image/png": "[encoded data removed]",
      "text/plain": [
       "<Figure size 864x432 with 1 Axes>"
      ]
     },
     "metadata": {},
     "output_type": "display_data"
    }
   ],
   "source": [
    "colors = sns.color_palette('pastel')[1:5]\n",
    "plt.subplots(figsize=(12, 6))\n",
    "plt.pie(df['event_type'].value_counts(), labels=df['event_type'].unique(), colors = colors)\n",
    "plt.title('Users activity within website')\n",
    "plt.show()"
   ]
  },
  {
   "cell_type": "code",
   "execution_count": 6,
   "id": "39abe601",
   "metadata": {},
   "outputs": [
    {
     "name": "stdout",
     "output_type": "stream",
     "text": [
      "CPU times: user 2min 33s, sys: 2.88 s, total: 2min 36s\n",
      "Wall time: 2min 38s\n"
     ]
    }
   ],
   "source": [
    "%%time\n",
    "df['event_time']=pd.to_datetime(df['event_time']).dt.tz_convert(None)"
   ]
  },
  {
   "cell_type": "code",
   "execution_count": 69,
   "id": "9b732a67",
   "metadata": {},
   "outputs": [
    {
     "data": {
      "text/html": [
       "<div>\n",
       "<style scoped>\n",
       "    .dataframe tbody tr th:only-of-type {\n",
       "        vertical-align: middle;\n",
       "    }\n",
       "\n",
       "    .dataframe tbody tr th {\n",
       "        vertical-align: top;\n",
       "    }\n",
       "\n",
       "    .dataframe thead th {\n",
       "        text-align: right;\n",
       "    }\n",
       "</style>\n",
       "<table border=\"1\" class=\"dataframe\">\n",
       "  <thead>\n",
       "    <tr style=\"text-align: right;\">\n",
       "      <th></th>\n",
       "      <th>event_time</th>\n",
       "      <th>event_type</th>\n",
       "      <th>product_id</th>\n",
       "      <th>category_id</th>\n",
       "      <th>category_code</th>\n",
       "      <th>brand</th>\n",
       "      <th>price</th>\n",
       "      <th>user_id</th>\n",
       "      <th>user_session</th>\n",
       "    </tr>\n",
       "  </thead>\n",
       "  <tbody>\n",
       "    <tr>\n",
       "      <th>0</th>\n",
       "      <td>2019-11-01 00:00:00</td>\n",
       "      <td>view</td>\n",
       "      <td>1003461</td>\n",
       "      <td>2053013555631882655</td>\n",
       "      <td>electronics.smartphone</td>\n",
       "      <td>xiaomi</td>\n",
       "      <td>489.070007</td>\n",
       "      <td>520088904</td>\n",
       "      <td>4d3b30da-a5e4-49df-b1a8-ba5943f1dd33</td>\n",
       "    </tr>\n",
       "    <tr>\n",
       "      <th>1</th>\n",
       "      <td>2019-11-01 00:00:00</td>\n",
       "      <td>view</td>\n",
       "      <td>5000088</td>\n",
       "      <td>2053013566100866035</td>\n",
       "      <td>appliances.sewing_machine</td>\n",
       "      <td>janome</td>\n",
       "      <td>293.649994</td>\n",
       "      <td>530496790</td>\n",
       "      <td>8e5f4f83-366c-4f70-860e-ca7417414283</td>\n",
       "    </tr>\n",
       "    <tr>\n",
       "      <th>2</th>\n",
       "      <td>2019-11-01 00:00:01</td>\n",
       "      <td>view</td>\n",
       "      <td>17302664</td>\n",
       "      <td>2053013553853497655</td>\n",
       "      <td>NaN</td>\n",
       "      <td>creed</td>\n",
       "      <td>28.309999</td>\n",
       "      <td>561587266</td>\n",
       "      <td>755422e7-9040-477b-9bd2-6a6e8fd97387</td>\n",
       "    </tr>\n",
       "    <tr>\n",
       "      <th>3</th>\n",
       "      <td>2019-11-01 00:00:01</td>\n",
       "      <td>view</td>\n",
       "      <td>3601530</td>\n",
       "      <td>2053013563810775923</td>\n",
       "      <td>appliances.kitchen.washer</td>\n",
       "      <td>lg</td>\n",
       "      <td>712.869995</td>\n",
       "      <td>518085591</td>\n",
       "      <td>3bfb58cd-7892-48cc-8020-2f17e6de6e7f</td>\n",
       "    </tr>\n",
       "  </tbody>\n",
       "</table>\n",
       "</div>"
      ],
      "text/plain": [
       "           event_time event_type  product_id          category_id  \\\n",
       "0 2019-11-01 00:00:00       view     1003461  2053013555631882655   \n",
       "1 2019-11-01 00:00:00       view     5000088  2053013566100866035   \n",
       "2 2019-11-01 00:00:01       view    17302664  2053013553853497655   \n",
       "3 2019-11-01 00:00:01       view     3601530  2053013563810775923   \n",
       "\n",
       "               category_code   brand       price    user_id  \\\n",
       "0     electronics.smartphone  xiaomi  489.070007  520088904   \n",
       "1  appliances.sewing_machine  janome  293.649994  530496790   \n",
       "2                        NaN   creed   28.309999  561587266   \n",
       "3  appliances.kitchen.washer      lg  712.869995  518085591   \n",
       "\n",
       "                           user_session  \n",
       "0  4d3b30da-a5e4-49df-b1a8-ba5943f1dd33  \n",
       "1  8e5f4f83-366c-4f70-860e-ca7417414283  \n",
       "2  755422e7-9040-477b-9bd2-6a6e8fd97387  \n",
       "3  3bfb58cd-7892-48cc-8020-2f17e6de6e7f  "
      ]
     },
     "execution_count": 69,
     "metadata": {},
     "output_type": "execute_result"
    }
   ],
   "source": [
    "df.head(4)"
   ]
  },
  {
   "cell_type": "code",
   "execution_count": 77,
   "id": "62b1383e",
   "metadata": {},
   "outputs": [
    {
     "data": {
      "text/plain": [
       "['xiaomi', 'janome', 'creed', 'lg', 'hp', ..., 'lauravalarosa', 'warrior', 'zmonday', 'pierrericaud', 'pjmasks']\n",
       "Length: 4201\n",
       "Categories (4200, object): ['a-case', 'a-derma', 'a-elita', 'a-mega', ..., 'zwilling', 'zwillingjahenckels', 'zx', 'zyxel']"
      ]
     },
     "execution_count": 77,
     "metadata": {},
     "output_type": "execute_result"
    }
   ],
   "source": [
    "df['brand'].unique()"
   ]
  },
  {
   "cell_type": "markdown",
   "id": "695123bf",
   "metadata": {},
   "source": [
    "Popular brends within the website"
   ]
  },
  {
   "cell_type": "code",
   "execution_count": 79,
   "id": "2bdfc06e",
   "metadata": {},
   "outputs": [
    {
     "data": {
      "text/plain": [
       "samsung    7889245\n",
       "apple      6259379\n",
       "xiaomi     4638062\n",
       "huawei     1410126\n",
       "lucente    1185075\n",
       "lg         1096990\n",
       "bosch       975059\n",
       "oppo        811698\n",
       "sony        798457\n",
       "respect     765331\n",
       "Name: brand, dtype: int64"
      ]
     },
     "execution_count": 79,
     "metadata": {},
     "output_type": "execute_result"
    }
   ],
   "source": [
    "df['brand'].value_counts().head(10)"
   ]
  },
  {
   "cell_type": "markdown",
   "id": "4ab93e7c",
   "metadata": {},
   "source": [
    "### RFM"
   ]
  },
  {
   "cell_type": "markdown",
   "id": "34901e7e",
   "metadata": {},
   "source": [
    "RFM is a method used for analyzing customer value. It is commonly used in database marketing and direct marketing and has received particular attention in retail and professional services industries.\n",
    "\n",
    "RFM stands for the three dimensions:\n",
    "\n",
    "    Recency – How recently did the customer purchase?\n",
    "    Frequency – How often do they purchase?\n",
    "    Monetary Value – How much do they spend?\n",
    "    \n",
    "source: https://en.wikipedia.org/wiki/RFM_(market_research)\n",
    "    "
   ]
  },
  {
   "cell_type": "markdown",
   "id": "fe9d17e2",
   "metadata": {},
   "source": [
    "In this method I'm trying to divide customers to categories, highlight the loyal and regular customers; identify customers who were loyal before in order to 'remind' about some new sales/services"
   ]
  },
  {
   "cell_type": "code",
   "execution_count": 7,
   "id": "58f8eaad",
   "metadata": {},
   "outputs": [
    {
     "data": {
      "text/html": [
       "<div>\n",
       "<style scoped>\n",
       "    .dataframe tbody tr th:only-of-type {\n",
       "        vertical-align: middle;\n",
       "    }\n",
       "\n",
       "    .dataframe tbody tr th {\n",
       "        vertical-align: top;\n",
       "    }\n",
       "\n",
       "    .dataframe thead th {\n",
       "        text-align: right;\n",
       "    }\n",
       "</style>\n",
       "<table border=\"1\" class=\"dataframe\">\n",
       "  <thead>\n",
       "    <tr style=\"text-align: right;\">\n",
       "      <th></th>\n",
       "      <th>event_time</th>\n",
       "      <th>event_type</th>\n",
       "      <th>product_id</th>\n",
       "      <th>category_id</th>\n",
       "      <th>category_code</th>\n",
       "      <th>brand</th>\n",
       "      <th>price</th>\n",
       "      <th>user_id</th>\n",
       "      <th>user_session</th>\n",
       "    </tr>\n",
       "  </thead>\n",
       "  <tbody>\n",
       "    <tr>\n",
       "      <th>107</th>\n",
       "      <td>2019-11-01 00:00:41</td>\n",
       "      <td>purchase</td>\n",
       "      <td>13200605</td>\n",
       "      <td>2053013557192163841</td>\n",
       "      <td>furniture.bedroom.bed</td>\n",
       "      <td>NaN</td>\n",
       "      <td>566.299988</td>\n",
       "      <td>559368633</td>\n",
       "      <td>d6034fa2-41fb-4ac0-9051-55ea9fc9147a</td>\n",
       "    </tr>\n",
       "    <tr>\n",
       "      <th>168</th>\n",
       "      <td>2019-11-01 00:01:04</td>\n",
       "      <td>purchase</td>\n",
       "      <td>1005161</td>\n",
       "      <td>2053013555631882655</td>\n",
       "      <td>electronics.smartphone</td>\n",
       "      <td>xiaomi</td>\n",
       "      <td>211.919998</td>\n",
       "      <td>513351129</td>\n",
       "      <td>e6b7ce9b-1938-4e20-976c-8b4163aea11d</td>\n",
       "    </tr>\n",
       "    <tr>\n",
       "      <th>707</th>\n",
       "      <td>2019-11-01 00:04:51</td>\n",
       "      <td>purchase</td>\n",
       "      <td>1004856</td>\n",
       "      <td>2053013555631882655</td>\n",
       "      <td>electronics.smartphone</td>\n",
       "      <td>samsung</td>\n",
       "      <td>128.419998</td>\n",
       "      <td>562958505</td>\n",
       "      <td>0f039697-fedc-40fa-8830-39c1a024351d</td>\n",
       "    </tr>\n",
       "  </tbody>\n",
       "</table>\n",
       "</div>"
      ],
      "text/plain": [
       "             event_time event_type  product_id          category_id  \\\n",
       "107 2019-11-01 00:00:41   purchase    13200605  2053013557192163841   \n",
       "168 2019-11-01 00:01:04   purchase     1005161  2053013555631882655   \n",
       "707 2019-11-01 00:04:51   purchase     1004856  2053013555631882655   \n",
       "\n",
       "              category_code    brand       price    user_id  \\\n",
       "107   furniture.bedroom.bed      NaN  566.299988  559368633   \n",
       "168  electronics.smartphone   xiaomi  211.919998  513351129   \n",
       "707  electronics.smartphone  samsung  128.419998  562958505   \n",
       "\n",
       "                             user_session  \n",
       "107  d6034fa2-41fb-4ac0-9051-55ea9fc9147a  \n",
       "168  e6b7ce9b-1938-4e20-976c-8b4163aea11d  \n",
       "707  0f039697-fedc-40fa-8830-39c1a024351d  "
      ]
     },
     "execution_count": 7,
     "metadata": {},
     "output_type": "execute_result"
    }
   ],
   "source": [
    "purchase_df = df[df['event_type'] == 'purchase']\n",
    "purchase_df.head(3)"
   ]
  },
  {
   "cell_type": "markdown",
   "id": "6d2803bd",
   "metadata": {},
   "source": [
    "since my notebook crushed sometimes, I need to make sure to work faster"
   ]
  },
  {
   "cell_type": "code",
   "execution_count": 21,
   "id": "59ea30fb",
   "metadata": {},
   "outputs": [],
   "source": [
    "#pip install pyarrow"
   ]
  },
  {
   "cell_type": "code",
   "execution_count": 8,
   "id": "e6ee249c",
   "metadata": {},
   "outputs": [],
   "source": [
    "import pyarrow.feather as feather\n",
    "import os\n",
    "os.makedirs('tmp', exist_ok=True)  # Make a temp dir for storing the feather file\n",
    "feather.write_feather(purchase_df, './tmp/data')"
   ]
  },
  {
   "cell_type": "code",
   "execution_count": 64,
   "id": "c6062c87",
   "metadata": {},
   "outputs": [],
   "source": [
    "purchase_df = pd.read_feather('./tmp/data')"
   ]
  },
  {
   "cell_type": "code",
   "execution_count": 65,
   "id": "88613be4",
   "metadata": {},
   "outputs": [
    {
     "data": {
      "text/plain": [
       "Timestamp('2019-11-30 23:59:44')"
      ]
     },
     "execution_count": 65,
     "metadata": {},
     "output_type": "execute_result"
    }
   ],
   "source": [
    "purchase_df['event_time'].max()"
   ]
  },
  {
   "cell_type": "code",
   "execution_count": 66,
   "id": "61b46cac",
   "metadata": {},
   "outputs": [
    {
     "data": {
      "text/plain": [
       "datetime.datetime(2019, 12, 1, 0, 0)"
      ]
     },
     "execution_count": 66,
     "metadata": {},
     "output_type": "execute_result"
    }
   ],
   "source": [
    "recent_date = dt.datetime(2019,12,1)\n",
    "recent_date"
   ]
  },
  {
   "cell_type": "code",
   "execution_count": 67,
   "id": "c437fa72",
   "metadata": {},
   "outputs": [],
   "source": [
    "purchase_df=pd.DataFrame(purchase_df)\n",
    "purchase_df['latest_purchase'] = recent_date - purchase_df.groupby('user_id')['event_time'].transform('max')\n",
    "purchase_df['latest_purchase'].astype('timedelta64[D]')\n",
    "purchase_df['latest_purchase']=purchase_df['latest_purchase'] / np.timedelta64(1, 'D')\n",
    "\n"
   ]
  },
  {
   "cell_type": "code",
   "execution_count": 71,
   "id": "8ee6cd19",
   "metadata": {},
   "outputs": [],
   "source": [
    "purchase_df['money_spent'] = purchase_df.groupby('user_id')['price'].transform('sum')\n"
   ]
  },
  {
   "cell_type": "code",
   "execution_count": 69,
   "id": "6bc5040e",
   "metadata": {},
   "outputs": [],
   "source": [
    "purchase_df['number_purchase'] = purchase_df.groupby([\"user_id\"])[\"user_session\"].transform(\"count\")\n"
   ]
  },
  {
   "cell_type": "code",
   "execution_count": 72,
   "id": "b73c45eb",
   "metadata": {},
   "outputs": [],
   "source": [
    "purchase_df.drop(['user_session', 'event_type', 'product_id', 'category_id', 'category_code', 'brand', 'price', 'event_time'], axis=1, inplace=True)\n"
   ]
  },
  {
   "cell_type": "code",
   "execution_count": 73,
   "id": "da49757b",
   "metadata": {},
   "outputs": [],
   "source": [
    "purchase_df.drop_duplicates(subset=None, keep=\"first\", inplace=True)"
   ]
  },
  {
   "cell_type": "code",
   "execution_count": 74,
   "id": "45a641cf",
   "metadata": {},
   "outputs": [
    {
     "data": {
      "text/plain": [
       "(441638, 4)"
      ]
     },
     "execution_count": 74,
     "metadata": {},
     "output_type": "execute_result"
    }
   ],
   "source": [
    "purchase_df.shape"
   ]
  },
  {
   "cell_type": "markdown",
   "id": "b6b2862c",
   "metadata": {},
   "source": [
    "###  Segmentation using k-means"
   ]
  },
  {
   "cell_type": "markdown",
   "id": "32409f31",
   "metadata": {},
   "source": [
    "article about RFM analysis\n",
    "\n",
    "https://www.optimove.com/resources/learning-center/rfm-segmentation"
   ]
  },
  {
   "cell_type": "code",
   "execution_count": 12,
   "id": "99bc9fa2",
   "metadata": {},
   "outputs": [],
   "source": [
    "from sklearn.cluster import KMeans, DBSCAN, AgglomerativeClustering\n",
    "from sklearn.preprocessing import MinMaxScaler\n",
    "from sklearn.decomposition import PCA\n",
    "from sklearn.manifold import TSNE"
   ]
  },
  {
   "cell_type": "code",
   "execution_count": 75,
   "id": "3a282377",
   "metadata": {},
   "outputs": [],
   "source": [
    "X = purchase_df.copy()\n",
    "X.drop(['user_id'], axis=1, inplace=True)"
   ]
  },
  {
   "cell_type": "code",
   "execution_count": 76,
   "id": "4ca50e3a",
   "metadata": {},
   "outputs": [],
   "source": [
    "#scaling for better performance\n",
    "scaler = MinMaxScaler()\n",
    "X = scaler.fit_transform(X)"
   ]
  },
  {
   "cell_type": "code",
   "execution_count": 77,
   "id": "fd1faaee",
   "metadata": {},
   "outputs": [
    {
     "data": {
      "text/plain": [
       "(441638, 2)"
      ]
     },
     "execution_count": 77,
     "metadata": {},
     "output_type": "execute_result"
    }
   ],
   "source": [
    "#dimension reduction for better k-means' performance\n",
    "pca = PCA(n_components=2)\n",
    "X_reduced = pca.fit_transform(X)\n",
    "X_reduced.shape"
   ]
  },
  {
   "cell_type": "code",
   "execution_count": 78,
   "id": "30ed57e9",
   "metadata": {},
   "outputs": [],
   "source": [
    "#method for 2D data visualization\n",
    "def display_components_in_2D_space(components_df, labels=None):\n",
    "    components_with_labels_df = pd.concat([components_df, pd.DataFrame(labels)], axis=1)\n",
    "\n",
    "    figsize = (10, 7)\n",
    "    if labels is not None:\n",
    "        components_with_labels_df.plot(kind='scatter', x='component_1', y='component_2', \n",
    "                                         c=components_with_labels_df.iloc[:, -1], cmap=plt.get_cmap('jet'),\n",
    "                                         alpha=0.5, figsize=figsize)\n",
    "    else:\n",
    "        components_with_labels_df.plot(kind='scatter', x='component_1', y='component_2', alpha=0.5, figsize=figsize)\n",
    "\n",
    "    plt.xlabel('component_1')\n",
    "    plt.ylabel('component_2')\n",
    "    plt.title('2D mapping of objects')    \n",
    "    plt.show()"
   ]
  },
  {
   "cell_type": "code",
   "execution_count": 79,
   "id": "c4f9e83f",
   "metadata": {},
   "outputs": [
    {
     "data": {
      "image/png": "[encoded data removed]",
      "text/plain": [
       "<Figure size 720x504 with 1 Axes>"
      ]
     },
     "metadata": {
      "needs_background": "light"
     },
     "output_type": "display_data"
    }
   ],
   "source": [
    "dims = 2\n",
    "colnames = ['component_' + str(i) for i in range(1, dims+1)]\n",
    "components_X_reduced = pd.DataFrame(data=X_reduced, columns=colnames)\n",
    "components_X_reduced.head()\n",
    "\n",
    "display_components_in_2D_space(components_X_reduced)"
   ]
  },
  {
   "cell_type": "code",
   "execution_count": 80,
   "id": "5b0cbfce",
   "metadata": {},
   "outputs": [],
   "source": [
    "# I want 5 clusters like stated in the article\n",
    "kmeans = KMeans(n_clusters=2, random_state=42)\n",
    "labels_clast = kmeans.fit_predict(X_reduced)\n",
    "labels_clast = pd.Series(labels_clast, name='clusters')"
   ]
  },
  {
   "cell_type": "code",
   "execution_count": 81,
   "id": "9c511a6f",
   "metadata": {},
   "outputs": [],
   "source": [
    "X_reduced = pd.DataFrame(X_reduced)"
   ]
  },
  {
   "cell_type": "code",
   "execution_count": 82,
   "id": "4f707177",
   "metadata": {},
   "outputs": [],
   "source": [
    "X_reduced.columns = ['component_1', 'component_2']"
   ]
  },
  {
   "cell_type": "code",
   "execution_count": 83,
   "id": "cc1b4e34",
   "metadata": {},
   "outputs": [
    {
     "data": {
      "image/png": "[encoded data removed]",
      "text/plain": [
       "<Figure size 720x504 with 2 Axes>"
      ]
     },
     "metadata": {
      "needs_background": "light"
     },
     "output_type": "display_data"
    }
   ],
   "source": [
    "display_components_in_2D_space(X_reduced, labels=labels_clast)"
   ]
  },
  {
   "cell_type": "code",
   "execution_count": 84,
   "id": "b01f5a5a",
   "metadata": {},
   "outputs": [],
   "source": [
    "df_pca_kmeans = pd.concat([purchase_df.reset_index(drop=True), pd.DataFrame(labels_clast)], axis=1)"
   ]
  },
  {
   "cell_type": "code",
   "execution_count": 85,
   "id": "f63a2812",
   "metadata": {},
   "outputs": [
    {
     "data": {
      "text/plain": [
       "0    302610\n",
       "1    139028\n",
       "Name: clusters, dtype: int64"
      ]
     },
     "execution_count": 85,
     "metadata": {},
     "output_type": "execute_result"
    }
   ],
   "source": [
    "df_pca_kmeans['clusters'].value_counts()"
   ]
  },
  {
   "cell_type": "code",
   "execution_count": 100,
   "id": "588c71ee",
   "metadata": {},
   "outputs": [
    {
     "data": {
      "text/html": [
       "<div>\n",
       "<style scoped>\n",
       "    .dataframe tbody tr th:only-of-type {\n",
       "        vertical-align: middle;\n",
       "    }\n",
       "\n",
       "    .dataframe tbody tr th {\n",
       "        vertical-align: top;\n",
       "    }\n",
       "\n",
       "    .dataframe thead th {\n",
       "        text-align: right;\n",
       "    }\n",
       "</style>\n",
       "<table border=\"1\" class=\"dataframe\">\n",
       "  <thead>\n",
       "    <tr style=\"text-align: right;\">\n",
       "      <th></th>\n",
       "      <th>user_id</th>\n",
       "      <th>latest_purchase</th>\n",
       "      <th>money_spent</th>\n",
       "      <th>number_purchase</th>\n",
       "      <th>clusters</th>\n",
       "    </tr>\n",
       "  </thead>\n",
       "  <tbody>\n",
       "    <tr>\n",
       "      <th>count</th>\n",
       "      <td>1.390280e+05</td>\n",
       "      <td>139028.000000</td>\n",
       "      <td>139028.000000</td>\n",
       "      <td>139028.00000</td>\n",
       "      <td>139028.0</td>\n",
       "    </tr>\n",
       "    <tr>\n",
       "      <th>mean</th>\n",
       "      <td>5.415137e+08</td>\n",
       "      <td>22.905989</td>\n",
       "      <td>436.859070</td>\n",
       "      <td>1.56111</td>\n",
       "      <td>1.0</td>\n",
       "    </tr>\n",
       "    <tr>\n",
       "      <th>std</th>\n",
       "      <td>2.139822e+07</td>\n",
       "      <td>3.963927</td>\n",
       "      <td>960.440735</td>\n",
       "      <td>1.72424</td>\n",
       "      <td>0.0</td>\n",
       "    </tr>\n",
       "    <tr>\n",
       "      <th>min</th>\n",
       "      <td>1.383403e+08</td>\n",
       "      <td>16.243322</td>\n",
       "      <td>1.000000</td>\n",
       "      <td>1.00000</td>\n",
       "      <td>1.0</td>\n",
       "    </tr>\n",
       "    <tr>\n",
       "      <th>25%</th>\n",
       "      <td>5.190496e+08</td>\n",
       "      <td>19.540969</td>\n",
       "      <td>79.527498</td>\n",
       "      <td>1.00000</td>\n",
       "      <td>1.0</td>\n",
       "    </tr>\n",
       "    <tr>\n",
       "      <th>50%</th>\n",
       "      <td>5.425536e+08</td>\n",
       "      <td>22.760272</td>\n",
       "      <td>190.460007</td>\n",
       "      <td>1.00000</td>\n",
       "      <td>1.0</td>\n",
       "    </tr>\n",
       "    <tr>\n",
       "      <th>75%</th>\n",
       "      <td>5.636645e+08</td>\n",
       "      <td>26.374447</td>\n",
       "      <td>458.250000</td>\n",
       "      <td>2.00000</td>\n",
       "      <td>1.0</td>\n",
       "    </tr>\n",
       "    <tr>\n",
       "      <th>max</th>\n",
       "      <td>5.715633e+08</td>\n",
       "      <td>29.999525</td>\n",
       "      <td>79311.000000</td>\n",
       "      <td>140.00000</td>\n",
       "      <td>1.0</td>\n",
       "    </tr>\n",
       "  </tbody>\n",
       "</table>\n",
       "</div>"
      ],
      "text/plain": [
       "            user_id  latest_purchase    money_spent  number_purchase  clusters\n",
       "count  1.390280e+05    139028.000000  139028.000000     139028.00000  139028.0\n",
       "mean   5.415137e+08        22.905989     436.859070          1.56111       1.0\n",
       "std    2.139822e+07         3.963927     960.440735          1.72424       0.0\n",
       "min    1.383403e+08        16.243322       1.000000          1.00000       1.0\n",
       "25%    5.190496e+08        19.540969      79.527498          1.00000       1.0\n",
       "50%    5.425536e+08        22.760272     190.460007          1.00000       1.0\n",
       "75%    5.636645e+08        26.374447     458.250000          2.00000       1.0\n",
       "max    5.715633e+08        29.999525   79311.000000        140.00000       1.0"
      ]
     },
     "execution_count": 100,
     "metadata": {},
     "output_type": "execute_result"
    }
   ],
   "source": [
    "df_cluster1 = df_pca_kmeans[df_pca_kmeans['clusters'] == 1]\n",
    "df_cluster1.describe()"
   ]
  },
  {
   "cell_type": "code",
   "execution_count": 87,
   "id": "5d87bb97",
   "metadata": {},
   "outputs": [
    {
     "data": {
      "text/html": [
       "<div>\n",
       "<style scoped>\n",
       "    .dataframe tbody tr th:only-of-type {\n",
       "        vertical-align: middle;\n",
       "    }\n",
       "\n",
       "    .dataframe tbody tr th {\n",
       "        vertical-align: top;\n",
       "    }\n",
       "\n",
       "    .dataframe thead th {\n",
       "        text-align: right;\n",
       "    }\n",
       "</style>\n",
       "<table border=\"1\" class=\"dataframe\">\n",
       "  <thead>\n",
       "    <tr style=\"text-align: right;\">\n",
       "      <th></th>\n",
       "      <th>user_id</th>\n",
       "      <th>latest_purchase</th>\n",
       "      <th>money_spent</th>\n",
       "      <th>number_purchase</th>\n",
       "      <th>clusters</th>\n",
       "    </tr>\n",
       "  </thead>\n",
       "  <tbody>\n",
       "    <tr>\n",
       "      <th>count</th>\n",
       "      <td>3.026100e+05</td>\n",
       "      <td>302610.000000</td>\n",
       "      <td>302610.000000</td>\n",
       "      <td>302610.000000</td>\n",
       "      <td>302610.0</td>\n",
       "    </tr>\n",
       "    <tr>\n",
       "      <th>mean</th>\n",
       "      <td>5.422815e+08</td>\n",
       "      <td>9.230777</td>\n",
       "      <td>708.682861</td>\n",
       "      <td>2.312881</td>\n",
       "      <td>0.0</td>\n",
       "    </tr>\n",
       "    <tr>\n",
       "      <th>std</th>\n",
       "      <td>2.330902e+07</td>\n",
       "      <td>4.893439</td>\n",
       "      <td>1867.752319</td>\n",
       "      <td>3.827575</td>\n",
       "      <td>0.0</td>\n",
       "    </tr>\n",
       "    <tr>\n",
       "      <th>min</th>\n",
       "      <td>2.561642e+08</td>\n",
       "      <td>0.000185</td>\n",
       "      <td>0.770000</td>\n",
       "      <td>1.000000</td>\n",
       "      <td>0.0</td>\n",
       "    </tr>\n",
       "    <tr>\n",
       "      <th>25%</th>\n",
       "      <td>5.184092e+08</td>\n",
       "      <td>4.617642</td>\n",
       "      <td>125.849998</td>\n",
       "      <td>1.000000</td>\n",
       "      <td>0.0</td>\n",
       "    </tr>\n",
       "    <tr>\n",
       "      <th>50%</th>\n",
       "      <td>5.414780e+08</td>\n",
       "      <td>11.195984</td>\n",
       "      <td>275.114990</td>\n",
       "      <td>1.000000</td>\n",
       "      <td>0.0</td>\n",
       "    </tr>\n",
       "    <tr>\n",
       "      <th>75%</th>\n",
       "      <td>5.663365e+08</td>\n",
       "      <td>13.526736</td>\n",
       "      <td>716.135010</td>\n",
       "      <td>2.000000</td>\n",
       "      <td>0.0</td>\n",
       "    </tr>\n",
       "    <tr>\n",
       "      <th>max</th>\n",
       "      <td>5.799671e+08</td>\n",
       "      <td>14.644051</td>\n",
       "      <td>203986.062500</td>\n",
       "      <td>519.000000</td>\n",
       "      <td>0.0</td>\n",
       "    </tr>\n",
       "  </tbody>\n",
       "</table>\n",
       "</div>"
      ],
      "text/plain": [
       "            user_id  latest_purchase    money_spent  number_purchase  clusters\n",
       "count  3.026100e+05    302610.000000  302610.000000    302610.000000  302610.0\n",
       "mean   5.422815e+08         9.230777     708.682861         2.312881       0.0\n",
       "std    2.330902e+07         4.893439    1867.752319         3.827575       0.0\n",
       "min    2.561642e+08         0.000185       0.770000         1.000000       0.0\n",
       "25%    5.184092e+08         4.617642     125.849998         1.000000       0.0\n",
       "50%    5.414780e+08        11.195984     275.114990         1.000000       0.0\n",
       "75%    5.663365e+08        13.526736     716.135010         2.000000       0.0\n",
       "max    5.799671e+08        14.644051  203986.062500       519.000000       0.0"
      ]
     },
     "execution_count": 87,
     "metadata": {},
     "output_type": "execute_result"
    }
   ],
   "source": [
    "df_cluster0 = df_pca_kmeans[df_pca_kmeans['clusters'] == 0]\n",
    "df_cluster0.describe()"
   ]
  },
  {
   "cell_type": "markdown",
   "id": "74983da7",
   "metadata": {},
   "source": [
    "Quite obvious that we can split customers to groups. In this case I decided to divide them into 2 groups. Group1 are people whose last purchase was quite a lot time ago, spent less money and not many purchases. Whilst, for Gruop0 is quite opposite. Last purchase mean is 9 days ago, spent in average $700, mean number of purchase is 2. Also, quantiles looks better"
   ]
  },
  {
   "cell_type": "markdown",
   "id": "e69e11bc",
   "metadata": {},
   "source": [
    "Now, let's try classic RFM method used in marketing.\n",
    "\n",
    "Simple reminder that in kmeans we could change number of clusters as well"
   ]
  },
  {
   "cell_type": "markdown",
   "id": "17eddfc7",
   "metadata": {},
   "source": [
    "### RFM Segmentation"
   ]
  },
  {
   "cell_type": "markdown",
   "id": "773faed8",
   "metadata": {},
   "source": [
    "https://www.optimove.com/resources/learning-center/rfm-segmentation"
   ]
  },
  {
   "cell_type": "markdown",
   "id": "d2a6cbc5",
   "metadata": {},
   "source": [
    "The first step in building an RFM model is to assign Recency, Frequency and Monetary values to each customer, which I already did"
   ]
  },
  {
   "cell_type": "markdown",
   "id": "92978ce1",
   "metadata": {},
   "source": [
    "The second step is to divide the customer list into tiered groups for each of the three dimensions (R, F and M). Unless using specialized software, it’s recommended to divide the customers into four tiers for each dimension, such that each customer will be assigned to one tier in each dimension. This results in 64 distinct customer segments (4x4x4), into which customers will be segmented. \n",
    "\n",
    "The simplest way to create customers segments from RFM Model is to use Quartiles. We assign a score from 1 to 4 to Recency, Frequency and Monetary. Four is the best/highest value, and one is the lowest/worst value. A final RFM score is calculated simply by combining individual RFM score numbers."
   ]
  },
  {
   "cell_type": "code",
   "execution_count": 90,
   "id": "20fc4f6f",
   "metadata": {},
   "outputs": [],
   "source": [
    "X = purchase_df.copy()\n",
    "X.drop(['user_id'], axis=1, inplace=True)"
   ]
  },
  {
   "cell_type": "code",
   "execution_count": 91,
   "id": "53570516",
   "metadata": {},
   "outputs": [
    {
     "data": {
      "text/html": [
       "<div>\n",
       "<style scoped>\n",
       "    .dataframe tbody tr th:only-of-type {\n",
       "        vertical-align: middle;\n",
       "    }\n",
       "\n",
       "    .dataframe tbody tr th {\n",
       "        vertical-align: top;\n",
       "    }\n",
       "\n",
       "    .dataframe thead th {\n",
       "        text-align: right;\n",
       "    }\n",
       "</style>\n",
       "<table border=\"1\" class=\"dataframe\">\n",
       "  <thead>\n",
       "    <tr style=\"text-align: right;\">\n",
       "      <th></th>\n",
       "      <th>latest_purchase</th>\n",
       "      <th>money_spent</th>\n",
       "      <th>number_purchase</th>\n",
       "    </tr>\n",
       "  </thead>\n",
       "  <tbody>\n",
       "    <tr>\n",
       "      <th>0.25</th>\n",
       "      <td>7.570278</td>\n",
       "      <td>108.599998</td>\n",
       "      <td>1.0</td>\n",
       "    </tr>\n",
       "    <tr>\n",
       "      <th>0.50</th>\n",
       "      <td>13.492106</td>\n",
       "      <td>246.039993</td>\n",
       "      <td>1.0</td>\n",
       "    </tr>\n",
       "    <tr>\n",
       "      <th>0.75</th>\n",
       "      <td>18.780564</td>\n",
       "      <td>616.919983</td>\n",
       "      <td>2.0</td>\n",
       "    </tr>\n",
       "  </tbody>\n",
       "</table>\n",
       "</div>"
      ],
      "text/plain": [
       "      latest_purchase  money_spent  number_purchase\n",
       "0.25         7.570278   108.599998              1.0\n",
       "0.50        13.492106   246.039993              1.0\n",
       "0.75        18.780564   616.919983              2.0"
      ]
     },
     "execution_count": 91,
     "metadata": {},
     "output_type": "execute_result"
    }
   ],
   "source": [
    "X.quantile(q=[0.25,0.5,0.75])"
   ]
  },
  {
   "cell_type": "code",
   "execution_count": 92,
   "id": "ba60aea1",
   "metadata": {},
   "outputs": [
    {
     "data": {
      "text/plain": [
       "{'latest_purchase': {0.25: 7.570277777777778,\n",
       "  0.5: 13.492106481481482,\n",
       "  0.75: 18.78056423611111},\n",
       " 'money_spent': {0.25: 108.5999984741211,\n",
       "  0.5: 246.0399932861328,\n",
       "  0.75: 616.9199829101562},\n",
       " 'number_purchase': {0.25: 1.0, 0.5: 1.0, 0.75: 2.0}}"
      ]
     },
     "execution_count": 92,
     "metadata": {},
     "output_type": "execute_result"
    }
   ],
   "source": [
    "quartiles=X.quantile(q=[0.25,0.5,0.75]).to_dict()\n",
    "quartiles"
   ]
  },
  {
   "cell_type": "code",
   "execution_count": 93,
   "id": "ebc29493",
   "metadata": {},
   "outputs": [],
   "source": [
    "# Create RFM Segments\n",
    "## for Recency \n",
    "\n",
    "def R(x,p,d):\n",
    "    if x <= d[p][0.25]:\n",
    "        return 1\n",
    "    elif x <= d[p][0.50]:\n",
    "        return 2\n",
    "    elif x <= d[p][0.75]: \n",
    "        return 3\n",
    "    else:\n",
    "        return 4\n",
    "    \n",
    "## for Frequency and Monetary \n",
    "\n",
    "def FM(x,p,d):\n",
    "    if x <= d[p][0.25]:\n",
    "        return 4\n",
    "    elif x <= d[p][0.50]:\n",
    "        return 3\n",
    "    elif x <= d[p][0.75]: \n",
    "        return 2\n",
    "    else:\n",
    "        return 1    \n",
    "    "
   ]
  },
  {
   "cell_type": "code",
   "execution_count": 94,
   "id": "6c5a20d5",
   "metadata": {},
   "outputs": [
    {
     "data": {
      "text/html": [
       "<div>\n",
       "<style scoped>\n",
       "    .dataframe tbody tr th:only-of-type {\n",
       "        vertical-align: middle;\n",
       "    }\n",
       "\n",
       "    .dataframe tbody tr th {\n",
       "        vertical-align: top;\n",
       "    }\n",
       "\n",
       "    .dataframe thead th {\n",
       "        text-align: right;\n",
       "    }\n",
       "</style>\n",
       "<table border=\"1\" class=\"dataframe\">\n",
       "  <thead>\n",
       "    <tr style=\"text-align: right;\">\n",
       "      <th></th>\n",
       "      <th>latest_purchase</th>\n",
       "      <th>money_spent</th>\n",
       "      <th>number_purchase</th>\n",
       "      <th>R_Quartile</th>\n",
       "      <th>F_Quartile</th>\n",
       "      <th>M_Quartile</th>\n",
       "    </tr>\n",
       "  </thead>\n",
       "  <tbody>\n",
       "    <tr>\n",
       "      <th>107</th>\n",
       "      <td>29.999525</td>\n",
       "      <td>566.299988</td>\n",
       "      <td>1</td>\n",
       "      <td>4</td>\n",
       "      <td>4</td>\n",
       "      <td>2</td>\n",
       "    </tr>\n",
       "    <tr>\n",
       "      <th>168</th>\n",
       "      <td>5.592928</td>\n",
       "      <td>546.520020</td>\n",
       "      <td>2</td>\n",
       "      <td>1</td>\n",
       "      <td>2</td>\n",
       "      <td>2</td>\n",
       "    </tr>\n",
       "    <tr>\n",
       "      <th>707</th>\n",
       "      <td>11.661528</td>\n",
       "      <td>1455.979980</td>\n",
       "      <td>12</td>\n",
       "      <td>2</td>\n",
       "      <td>1</td>\n",
       "      <td>1</td>\n",
       "    </tr>\n",
       "    <tr>\n",
       "      <th>811</th>\n",
       "      <td>28.312060</td>\n",
       "      <td>237.550003</td>\n",
       "      <td>2</td>\n",
       "      <td>4</td>\n",
       "      <td>2</td>\n",
       "      <td>3</td>\n",
       "    </tr>\n",
       "    <tr>\n",
       "      <th>939</th>\n",
       "      <td>29.985880</td>\n",
       "      <td>3421.599854</td>\n",
       "      <td>7</td>\n",
       "      <td>4</td>\n",
       "      <td>1</td>\n",
       "      <td>1</td>\n",
       "    </tr>\n",
       "  </tbody>\n",
       "</table>\n",
       "</div>"
      ],
      "text/plain": [
       "     latest_purchase  money_spent  number_purchase  R_Quartile  F_Quartile  \\\n",
       "107        29.999525   566.299988                1           4           4   \n",
       "168         5.592928   546.520020                2           1           2   \n",
       "707        11.661528  1455.979980               12           2           1   \n",
       "811        28.312060   237.550003                2           4           2   \n",
       "939        29.985880  3421.599854                7           4           1   \n",
       "\n",
       "     M_Quartile  \n",
       "107           2  \n",
       "168           2  \n",
       "707           1  \n",
       "811           3  \n",
       "939           1  "
      ]
     },
     "execution_count": 94,
     "metadata": {},
     "output_type": "execute_result"
    }
   ],
   "source": [
    "#create RFM segmentation column\n",
    "X['R_Quartile'] = X['latest_purchase'].apply(R, args=('latest_purchase',quartiles,))\n",
    "X['F_Quartile'] = X['number_purchase'].apply(FM, args=('number_purchase',quartiles,))\n",
    "X['M_Quartile'] = X['money_spent'].apply(FM, args=('money_spent',quartiles,))\n",
    "\n",
    "X.head()"
   ]
  },
  {
   "cell_type": "markdown",
   "id": "b3682178",
   "metadata": {},
   "source": [
    "The third step is to select groups of customers to whom specific types of communications will be sent, based on the RFM segments in which they appear."
   ]
  },
  {
   "cell_type": "markdown",
   "id": "48d67e4e",
   "metadata": {},
   "source": [
    "It is helpful to assign names to segments of interest:\n",
    "\n",
    "**Best Customers** – This group consists of those customers who are found in R-Tier-1, F-Tier-1 and M-Tier-1, meaning that they transacted recently, do so often and spend more than other customers. A shortened notation for this segment is 1-1-1; we’ll use this notation going forward.\n",
    "\n",
    "**High-spending New Customers** – This group consists of those customers in 1-4-1 and 1-4-2. These are customers who transacted only once, but very recently and they spent a lot.\n",
    "\n",
    "**Lowest-Spending Active Loyal Customers** – This group consists of those customers in segments 1-1-3 and 1-1-4 (they transacted recently and do so often, but spend the least).\n",
    "\n",
    "**Churned Best Customers** – This segment consists of those customers in groups 4-1-1, 4-1-2, 4-2-1 and 4-2-2 (they transacted frequently and spent a lot, but it’s been a long time since they’ve transacted).\n"
   ]
  },
  {
   "cell_type": "code",
   "execution_count": 95,
   "id": "070a3319",
   "metadata": {},
   "outputs": [
    {
     "data": {
      "text/html": [
       "<div>\n",
       "<style scoped>\n",
       "    .dataframe tbody tr th:only-of-type {\n",
       "        vertical-align: middle;\n",
       "    }\n",
       "\n",
       "    .dataframe tbody tr th {\n",
       "        vertical-align: top;\n",
       "    }\n",
       "\n",
       "    .dataframe thead th {\n",
       "        text-align: right;\n",
       "    }\n",
       "</style>\n",
       "<table border=\"1\" class=\"dataframe\">\n",
       "  <thead>\n",
       "    <tr style=\"text-align: right;\">\n",
       "      <th></th>\n",
       "      <th>latest_purchase</th>\n",
       "      <th>money_spent</th>\n",
       "      <th>number_purchase</th>\n",
       "      <th>R_Quartile</th>\n",
       "      <th>F_Quartile</th>\n",
       "      <th>M_Quartile</th>\n",
       "      <th>RFM_label</th>\n",
       "    </tr>\n",
       "  </thead>\n",
       "  <tbody>\n",
       "    <tr>\n",
       "      <th>107</th>\n",
       "      <td>29.999525</td>\n",
       "      <td>566.299988</td>\n",
       "      <td>1</td>\n",
       "      <td>4</td>\n",
       "      <td>4</td>\n",
       "      <td>2</td>\n",
       "      <td>others</td>\n",
       "    </tr>\n",
       "    <tr>\n",
       "      <th>168</th>\n",
       "      <td>5.592928</td>\n",
       "      <td>546.520020</td>\n",
       "      <td>2</td>\n",
       "      <td>1</td>\n",
       "      <td>2</td>\n",
       "      <td>2</td>\n",
       "      <td>others</td>\n",
       "    </tr>\n",
       "    <tr>\n",
       "      <th>707</th>\n",
       "      <td>11.661528</td>\n",
       "      <td>1455.979980</td>\n",
       "      <td>12</td>\n",
       "      <td>2</td>\n",
       "      <td>1</td>\n",
       "      <td>1</td>\n",
       "      <td>others</td>\n",
       "    </tr>\n",
       "    <tr>\n",
       "      <th>811</th>\n",
       "      <td>28.312060</td>\n",
       "      <td>237.550003</td>\n",
       "      <td>2</td>\n",
       "      <td>4</td>\n",
       "      <td>2</td>\n",
       "      <td>3</td>\n",
       "      <td>others</td>\n",
       "    </tr>\n",
       "    <tr>\n",
       "      <th>939</th>\n",
       "      <td>29.985880</td>\n",
       "      <td>3421.599854</td>\n",
       "      <td>7</td>\n",
       "      <td>4</td>\n",
       "      <td>1</td>\n",
       "      <td>1</td>\n",
       "      <td>Churned Best Customers</td>\n",
       "    </tr>\n",
       "  </tbody>\n",
       "</table>\n",
       "</div>"
      ],
      "text/plain": [
       "     latest_purchase  money_spent  number_purchase  R_Quartile  F_Quartile  \\\n",
       "107        29.999525   566.299988                1           4           4   \n",
       "168         5.592928   546.520020                2           1           2   \n",
       "707        11.661528  1455.979980               12           2           1   \n",
       "811        28.312060   237.550003                2           4           2   \n",
       "939        29.985880  3421.599854                7           4           1   \n",
       "\n",
       "     M_Quartile               RFM_label  \n",
       "107           2                  others  \n",
       "168           2                  others  \n",
       "707           1                  others  \n",
       "811           3                  others  \n",
       "939           1  Churned Best Customers  "
      ]
     },
     "execution_count": 95,
     "metadata": {},
     "output_type": "execute_result"
    }
   ],
   "source": [
    "# Define rfm_level function\n",
    "def RFM_label(data):\n",
    "    if data['R_Quartile'] == 1 and data['F_Quartile'] == 1 and data['M_Quartile'] == 1:\n",
    "        return 'Best Customers'\n",
    "    elif ((data['R_Quartile'] == 1 and data['F_Quartile'] == 4 and data['M_Quartile'] == 1) or\n",
    "          (data['R_Quartile'] == 1 and data['F_Quartile'] == 4 and data['M_Quartile'] == 2)):\n",
    "        return 'High-spending New Customers'\n",
    "    elif ((data['R_Quartile'] == 1 and data['F_Quartile'] == 1 and data['M_Quartile'] == 3) or\n",
    "          (data['R_Quartile'] == 1 and data['F_Quartile'] == 1 and data['M_Quartile'] == 4)):\n",
    "        return 'Lowest-Spending Active Loyal Customers'\n",
    "    elif ((data['R_Quartile'] == 4 and data['F_Quartile'] == 1 and data['M_Quartile'] == 1) or\n",
    "          (data['R_Quartile'] == 4 and data['F_Quartile'] == 1 and data['M_Quartile'] == 2) or\n",
    "          (data['R_Quartile'] == 4 and data['F_Quartile'] == 2 and data['M_Quartile'] == 1) or\n",
    "          (data['R_Quartile'] == 4 and data['F_Quartile'] == 2 and data['M_Quartile'] == 2)):\n",
    "        return 'Churned Best Customers'\n",
    "    else:\n",
    "        return 'others'\n",
    "#Create RFM label for customer\n",
    "X['RFM_label'] = X.apply(RFM_label, axis=1)\n",
    "X.head()"
   ]
  },
  {
   "cell_type": "code",
   "execution_count": 96,
   "id": "e9de95fc",
   "metadata": {},
   "outputs": [
    {
     "name": "stdout",
     "output_type": "stream",
     "text": [
      "                                       latest_purchase number_purchase  \\\n",
      "                                                  mean            mean   \n",
      "RFM_label                                                                \n",
      "Best Customers                                     2.9             8.4   \n",
      "Churned Best Customers                            23.7             3.2   \n",
      "High-spending New Customers                        3.5             1.0   \n",
      "Lowest-Spending Active Loyal Customers             3.4             3.7   \n",
      "others                                            14.2             1.7   \n",
      "\n",
      "                                        money_spent          \n",
      "                                               mean   count  \n",
      "RFM_label                                                    \n",
      "Best Customers                          3163.899902   23714  \n",
      "Churned Best Customers                  1160.500000   19464  \n",
      "High-spending New Customers              587.900024   17336  \n",
      "Lowest-Spending Active Loyal Customers   146.000000    3294  \n",
      "others                                   441.700012  377830  \n"
     ]
    }
   ],
   "source": [
    "# Calculate average values for each RFM_Level, and return a size of each segment \n",
    "RFM_desc = X.groupby('RFM_label').agg({\n",
    "    'latest_purchase': 'mean',\n",
    "    'number_purchase': 'mean',\n",
    "    'money_spent': ['mean', 'count']\n",
    "}).round(1)\n",
    "# Print the aggregated dataset\n",
    "print(RFM_desc)"
   ]
  },
  {
   "cell_type": "code",
   "execution_count": 98,
   "id": "b1729a7f",
   "metadata": {},
   "outputs": [
    {
     "data": {
      "text/html": [
       "<div>\n",
       "<style scoped>\n",
       "    .dataframe tbody tr th:only-of-type {\n",
       "        vertical-align: middle;\n",
       "    }\n",
       "\n",
       "    .dataframe tbody tr th {\n",
       "        vertical-align: top;\n",
       "    }\n",
       "\n",
       "    .dataframe thead tr th {\n",
       "        text-align: left;\n",
       "    }\n",
       "\n",
       "    .dataframe thead tr:last-of-type th {\n",
       "        text-align: right;\n",
       "    }\n",
       "</style>\n",
       "<table border=\"1\" class=\"dataframe\">\n",
       "  <thead>\n",
       "    <tr>\n",
       "      <th></th>\n",
       "      <th>latest_purchase</th>\n",
       "      <th>number_purchase</th>\n",
       "      <th colspan=\"2\" halign=\"left\">money_spent</th>\n",
       "    </tr>\n",
       "    <tr>\n",
       "      <th></th>\n",
       "      <th>mean</th>\n",
       "      <th>mean</th>\n",
       "      <th>mean</th>\n",
       "      <th>count</th>\n",
       "    </tr>\n",
       "    <tr>\n",
       "      <th>RFM_label</th>\n",
       "      <th></th>\n",
       "      <th></th>\n",
       "      <th></th>\n",
       "      <th></th>\n",
       "    </tr>\n",
       "  </thead>\n",
       "  <tbody>\n",
       "    <tr>\n",
       "      <th>Best Customers</th>\n",
       "      <td>2.9</td>\n",
       "      <td>8.4</td>\n",
       "      <td>3163.899902</td>\n",
       "      <td>23714</td>\n",
       "    </tr>\n",
       "    <tr>\n",
       "      <th>Churned Best Customers</th>\n",
       "      <td>23.7</td>\n",
       "      <td>3.2</td>\n",
       "      <td>1160.500000</td>\n",
       "      <td>19464</td>\n",
       "    </tr>\n",
       "    <tr>\n",
       "      <th>High-spending New Customers</th>\n",
       "      <td>3.5</td>\n",
       "      <td>1.0</td>\n",
       "      <td>587.900024</td>\n",
       "      <td>17336</td>\n",
       "    </tr>\n",
       "    <tr>\n",
       "      <th>Lowest-Spending Active Loyal Customers</th>\n",
       "      <td>3.4</td>\n",
       "      <td>3.7</td>\n",
       "      <td>146.000000</td>\n",
       "      <td>3294</td>\n",
       "    </tr>\n",
       "    <tr>\n",
       "      <th>others</th>\n",
       "      <td>14.2</td>\n",
       "      <td>1.7</td>\n",
       "      <td>441.700012</td>\n",
       "      <td>377830</td>\n",
       "    </tr>\n",
       "  </tbody>\n",
       "</table>\n",
       "</div>"
      ],
      "text/plain": [
       "                                       latest_purchase number_purchase  \\\n",
       "                                                  mean            mean   \n",
       "RFM_label                                                                \n",
       "Best Customers                                     2.9             8.4   \n",
       "Churned Best Customers                            23.7             3.2   \n",
       "High-spending New Customers                        3.5             1.0   \n",
       "Lowest-Spending Active Loyal Customers             3.4             3.7   \n",
       "others                                            14.2             1.7   \n",
       "\n",
       "                                        money_spent          \n",
       "                                               mean   count  \n",
       "RFM_label                                                    \n",
       "Best Customers                          3163.899902   23714  \n",
       "Churned Best Customers                  1160.500000   19464  \n",
       "High-spending New Customers              587.900024   17336  \n",
       "Lowest-Spending Active Loyal Customers   146.000000    3294  \n",
       "others                                   441.700012  377830  "
      ]
     },
     "execution_count": 98,
     "metadata": {},
     "output_type": "execute_result"
    }
   ],
   "source": [
    "RFM_desc"
   ]
  },
  {
   "cell_type": "code",
   "execution_count": 99,
   "id": "b4fc0003",
   "metadata": {
    "scrolled": true
   },
   "outputs": [
    {
     "data": {
      "text/plain": [
       "<AxesSubplot:ylabel='RFM_label'>"
      ]
     },
     "execution_count": 99,
     "metadata": {},
     "output_type": "execute_result"
    },
    {
     "data": {
      "image/png": "[encoded data removed]",
      "text/plain": [
       "<Figure size 864x432 with 1 Axes>"
      ]
     },
     "metadata": {},
     "output_type": "display_data"
    }
   ],
   "source": [
    "colors = sb.color_palette('pastel')[1:6]\n",
    "plt.subplots(figsize=(12, 6))\n",
    "X.RFM_label.str.get_dummies().sum().plot.pie(label='RFM_label', colors = colors, autopct='%1.0f%%')"
   ]
  },
  {
   "cell_type": "markdown",
   "id": "5cac2d0e",
   "metadata": {},
   "source": [
    "#### Next task: classifiy 'others' as well:"
   ]
  },
  {
   "cell_type": "code",
   "execution_count": 43,
   "id": "3662b1aa",
   "metadata": {},
   "outputs": [
    {
     "data": {
      "text/html": [
       "<div>\n",
       "<style scoped>\n",
       "    .dataframe tbody tr th:only-of-type {\n",
       "        vertical-align: middle;\n",
       "    }\n",
       "\n",
       "    .dataframe tbody tr th {\n",
       "        vertical-align: top;\n",
       "    }\n",
       "\n",
       "    .dataframe thead th {\n",
       "        text-align: right;\n",
       "    }\n",
       "</style>\n",
       "<table border=\"1\" class=\"dataframe\">\n",
       "  <thead>\n",
       "    <tr style=\"text-align: right;\">\n",
       "      <th></th>\n",
       "      <th>latest_purchase</th>\n",
       "      <th>money_spent</th>\n",
       "      <th>number_purchase</th>\n",
       "      <th>R_Quartile</th>\n",
       "      <th>F_Quartile</th>\n",
       "      <th>M_Quartile</th>\n",
       "      <th>RFM_label</th>\n",
       "      <th>RFM_segmentation</th>\n",
       "      <th>RFM_score</th>\n",
       "    </tr>\n",
       "  </thead>\n",
       "  <tbody>\n",
       "    <tr>\n",
       "      <th>107</th>\n",
       "      <td>29.999525</td>\n",
       "      <td>566.299988</td>\n",
       "      <td>1</td>\n",
       "      <td>4</td>\n",
       "      <td>4</td>\n",
       "      <td>2</td>\n",
       "      <td>others</td>\n",
       "      <td>442</td>\n",
       "      <td>10</td>\n",
       "    </tr>\n",
       "    <tr>\n",
       "      <th>168</th>\n",
       "      <td>5.592928</td>\n",
       "      <td>546.520020</td>\n",
       "      <td>2</td>\n",
       "      <td>1</td>\n",
       "      <td>2</td>\n",
       "      <td>2</td>\n",
       "      <td>others</td>\n",
       "      <td>122</td>\n",
       "      <td>5</td>\n",
       "    </tr>\n",
       "    <tr>\n",
       "      <th>707</th>\n",
       "      <td>11.661528</td>\n",
       "      <td>1455.979980</td>\n",
       "      <td>12</td>\n",
       "      <td>2</td>\n",
       "      <td>1</td>\n",
       "      <td>1</td>\n",
       "      <td>others</td>\n",
       "      <td>211</td>\n",
       "      <td>4</td>\n",
       "    </tr>\n",
       "    <tr>\n",
       "      <th>811</th>\n",
       "      <td>28.312060</td>\n",
       "      <td>237.550003</td>\n",
       "      <td>2</td>\n",
       "      <td>4</td>\n",
       "      <td>2</td>\n",
       "      <td>3</td>\n",
       "      <td>others</td>\n",
       "      <td>423</td>\n",
       "      <td>9</td>\n",
       "    </tr>\n",
       "    <tr>\n",
       "      <th>939</th>\n",
       "      <td>29.985880</td>\n",
       "      <td>3421.599854</td>\n",
       "      <td>7</td>\n",
       "      <td>4</td>\n",
       "      <td>1</td>\n",
       "      <td>1</td>\n",
       "      <td>Churned Best Customers</td>\n",
       "      <td>411</td>\n",
       "      <td>6</td>\n",
       "    </tr>\n",
       "  </tbody>\n",
       "</table>\n",
       "</div>"
      ],
      "text/plain": [
       "     latest_purchase  money_spent  number_purchase  R_Quartile  F_Quartile  \\\n",
       "107        29.999525   566.299988                1           4           4   \n",
       "168         5.592928   546.520020                2           1           2   \n",
       "707        11.661528  1455.979980               12           2           1   \n",
       "811        28.312060   237.550003                2           4           2   \n",
       "939        29.985880  3421.599854                7           4           1   \n",
       "\n",
       "     M_Quartile               RFM_label RFM_segmentation  RFM_score  \n",
       "107           2                  others              442         10  \n",
       "168           2                  others              122          5  \n",
       "707           1                  others              211          4  \n",
       "811           3                  others              423          9  \n",
       "939           1  Churned Best Customers              411          6  "
      ]
     },
     "execution_count": 43,
     "metadata": {},
     "output_type": "execute_result"
    }
   ],
   "source": [
    "#create RFM segmentation column\n",
    "X['R_Quartile'] = X['latest_purchase'].apply(R, args=('latest_purchase',quartiles,))\n",
    "X['F_Quartile'] = X['number_purchase'].apply(FM, args=('number_purchase',quartiles,))\n",
    "X['M_Quartile'] = X['money_spent'].apply(FM, args=('money_spent',quartiles,))\n",
    "X['RFM_segmentation'] = X.R_Quartile.map(str) \\\n",
    "                    + X.F_Quartile.map(str) \\\n",
    "                    + X.M_Quartile.map(str)\n",
    "X['RFM_score'] = X.R_Quartile.map(int) \\\n",
    "                    + X.F_Quartile.map(int) \\\n",
    "                    + X.M_Quartile.map(int)\n",
    "X.head()"
   ]
  },
  {
   "cell_type": "code",
   "execution_count": 44,
   "id": "b6a597f9",
   "metadata": {},
   "outputs": [
    {
     "data": {
      "text/html": [
       "<div>\n",
       "<style scoped>\n",
       "    .dataframe tbody tr th:only-of-type {\n",
       "        vertical-align: middle;\n",
       "    }\n",
       "\n",
       "    .dataframe tbody tr th {\n",
       "        vertical-align: top;\n",
       "    }\n",
       "\n",
       "    .dataframe thead th {\n",
       "        text-align: right;\n",
       "    }\n",
       "</style>\n",
       "<table border=\"1\" class=\"dataframe\">\n",
       "  <thead>\n",
       "    <tr style=\"text-align: right;\">\n",
       "      <th></th>\n",
       "      <th>latest_purchase</th>\n",
       "      <th>money_spent</th>\n",
       "      <th>number_purchase</th>\n",
       "      <th>R_Quartile</th>\n",
       "      <th>F_Quartile</th>\n",
       "      <th>M_Quartile</th>\n",
       "      <th>RFM_label</th>\n",
       "      <th>RFM_segmentation</th>\n",
       "      <th>RFM_score</th>\n",
       "    </tr>\n",
       "  </thead>\n",
       "  <tbody>\n",
       "    <tr>\n",
       "      <th>107</th>\n",
       "      <td>29.999525</td>\n",
       "      <td>566.299988</td>\n",
       "      <td>1</td>\n",
       "      <td>4</td>\n",
       "      <td>4</td>\n",
       "      <td>2</td>\n",
       "      <td>Lost</td>\n",
       "      <td>442</td>\n",
       "      <td>10</td>\n",
       "    </tr>\n",
       "    <tr>\n",
       "      <th>168</th>\n",
       "      <td>5.592928</td>\n",
       "      <td>546.520020</td>\n",
       "      <td>2</td>\n",
       "      <td>1</td>\n",
       "      <td>2</td>\n",
       "      <td>2</td>\n",
       "      <td>Potential Loyalist</td>\n",
       "      <td>122</td>\n",
       "      <td>5</td>\n",
       "    </tr>\n",
       "    <tr>\n",
       "      <th>707</th>\n",
       "      <td>11.661528</td>\n",
       "      <td>1455.979980</td>\n",
       "      <td>12</td>\n",
       "      <td>2</td>\n",
       "      <td>1</td>\n",
       "      <td>1</td>\n",
       "      <td>Loyal Customers</td>\n",
       "      <td>211</td>\n",
       "      <td>4</td>\n",
       "    </tr>\n",
       "    <tr>\n",
       "      <th>811</th>\n",
       "      <td>28.312060</td>\n",
       "      <td>237.550003</td>\n",
       "      <td>2</td>\n",
       "      <td>4</td>\n",
       "      <td>2</td>\n",
       "      <td>3</td>\n",
       "      <td>Hibernating</td>\n",
       "      <td>423</td>\n",
       "      <td>9</td>\n",
       "    </tr>\n",
       "    <tr>\n",
       "      <th>939</th>\n",
       "      <td>29.985880</td>\n",
       "      <td>3421.599854</td>\n",
       "      <td>7</td>\n",
       "      <td>4</td>\n",
       "      <td>1</td>\n",
       "      <td>1</td>\n",
       "      <td>Promising</td>\n",
       "      <td>411</td>\n",
       "      <td>6</td>\n",
       "    </tr>\n",
       "  </tbody>\n",
       "</table>\n",
       "</div>"
      ],
      "text/plain": [
       "     latest_purchase  money_spent  number_purchase  R_Quartile  F_Quartile  \\\n",
       "107        29.999525   566.299988                1           4           4   \n",
       "168         5.592928   546.520020                2           1           2   \n",
       "707        11.661528  1455.979980               12           2           1   \n",
       "811        28.312060   237.550003                2           4           2   \n",
       "939        29.985880  3421.599854                7           4           1   \n",
       "\n",
       "     M_Quartile           RFM_label RFM_segmentation  RFM_score  \n",
       "107           2                Lost              442         10  \n",
       "168           2  Potential Loyalist              122          5  \n",
       "707           1     Loyal Customers              211          4  \n",
       "811           3         Hibernating              423          9  \n",
       "939           1           Promising              411          6  "
      ]
     },
     "execution_count": 44,
     "metadata": {},
     "output_type": "execute_result"
    }
   ],
   "source": [
    "# Define rfm_level function\n",
    "def RFM_label_to_10(data):\n",
    "    if data['RFM_score'] >= 10:\n",
    "        return 'Lost'\n",
    "    elif ((data['RFM_score'] >= 9) and (data['RFM_score'] < 10)):\n",
    "        return 'Hibernating'\n",
    "    elif ((data['RFM_score'] >= 8) and (data['RFM_score'] < 9)):\n",
    "        return 'Can’t Lose Them'\n",
    "    elif ((data['RFM_score'] >= 7) and (data['RFM_score'] < 8)):\n",
    "        return 'About To Sleep'\n",
    "    elif ((data['RFM_score'] >= 6) and (data['RFM_score'] < 7)):\n",
    "        return 'Promising'\n",
    "    elif ((data['RFM_score'] >= 5) and (data['RFM_score'] < 6)):\n",
    "        return 'Potential Loyalist'\n",
    "    elif ((data['RFM_score'] >= 4) and (data['RFM_score'] < 5)):\n",
    "        return 'Loyal Customers'\n",
    "    else:\n",
    "        return 'Champions'\n",
    "#Create RFM label for customer\n",
    "X['RFM_label'] = X.apply(RFM_label_to_10, axis=1)\n",
    "X.head()"
   ]
  },
  {
   "cell_type": "code",
   "execution_count": 51,
   "id": "a4bd4d4c",
   "metadata": {},
   "outputs": [
    {
     "name": "stdout",
     "output_type": "stream",
     "text": [
      "                   latest_purchase number_purchase  money_spent        \n",
      "                              mean            mean         mean   count\n",
      "RFM_label                                                              \n",
      "About To Sleep                11.6             1.7   528.799988   44791\n",
      "Can’t Lose Them               11.7             1.3   396.799988   55724\n",
      "Champions                      2.9             8.4  3163.899902   23714\n",
      "Hibernating                   12.4             1.1   284.000000   73548\n",
      "Lost                          19.5             1.0   129.100006  144109\n",
      "Loyal Customers                7.7             4.5  1603.699951   27689\n",
      "Potential Loyalist             9.9             3.4  1096.900024   33089\n",
      "Promising                     12.0             2.6   877.099976   38974\n"
     ]
    }
   ],
   "source": [
    "# Calculate average values for each RFM_Level, and return a size of each segment \n",
    "RFM_desc = X.groupby('RFM_label').agg({\n",
    "    'latest_purchase': 'mean',\n",
    "    'number_purchase': 'mean',\n",
    "    'money_spent': ['mean', 'count']\n",
    "}).round(1)\n",
    "# Print the aggregated dataset\n",
    "print(RFM_desc)"
   ]
  },
  {
   "cell_type": "code",
   "execution_count": 56,
   "id": "9b8f4bf0",
   "metadata": {},
   "outputs": [
    {
     "data": {
      "text/plain": [
       "<AxesSubplot:ylabel='RFM_label'>"
      ]
     },
     "execution_count": 56,
     "metadata": {},
     "output_type": "execute_result"
    },
    {
     "data": {
      "image/png": "[encoded data removed]",
      "text/plain": [
       "<Figure size 864x432 with 1 Axes>"
      ]
     },
     "metadata": {},
     "output_type": "display_data"
    }
   ],
   "source": [
    "colors = sb.color_palette('pastel')[1:6]\n",
    "plt.subplots(figsize=(12, 6))\n",
    "X.RFM_label.str.get_dummies().sum().plot.pie(label='RFM_label', colors = colors, autopct='%1.0f%%')"
   ]
  },
  {
   "cell_type": "markdown",
   "id": "7ae7b5fe",
   "metadata": {},
   "source": [
    "Now that we've identified our customer categories, we can decide how to approach or deal with each customer:\n",
    "\n",
    "    Champions : Reward them. Can be early adopters of new products. Will promote your brand. Most likely to send referrals.\n",
    "    Loyal Customer : Upsell higher value products. Ask for reviews.\n",
    "    Potential Loyalist : Offer membership / loyalty program. Keep them engaged. Offer personalised recommendations.\n",
    "    Promising : Offer coupons. Bring them back to the platform and keep them engaged. Offer personalised recommendations.\n",
    "    About to Sleep : Win them back via renewals or newer products, don’t lose them to competition. Talk to them if necessary. Spend time on highest possible personalisation.\n",
    "    Can't Lose Them : Provide helpful resources on the site. Send personalised emails.\n",
    "        Hibernating : Make subject lines of emails very personalised. Revive their interest by a specific discount on a specific product.\n",
    "    Lost : Revive interest with reach out campaign. Ignore otherwise.\n",
    "\n",
    "\n",
    "Link to the article:\n",
    "\n",
    "https://documentation.bloomreach.com/engagement/docs/rfm-segmentation"
   ]
  },
  {
   "cell_type": "code",
   "execution_count": null,
   "id": "6ec3b848",
   "metadata": {},
   "outputs": [],
   "source": []
  }
 ],
 "metadata": {
  "kernelspec": {
   "display_name": "Python 3 (ipykernel)",
   "language": "python",
   "name": "python3"
  },
  "language_info": {
   "codemirror_mode": {
    "name": "ipython",
    "version": 3
   },
   "file_extension": ".py",
   "mimetype": "text/x-python",
   "name": "python",
   "nbconvert_exporter": "python",
   "pygments_lexer": "ipython3",
   "version": "3.9.12"
  }
 },
 "nbformat": 4,
 "nbformat_minor": 5
}
